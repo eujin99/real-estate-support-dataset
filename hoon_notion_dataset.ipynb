{
  "nbformat": 4,
  "nbformat_minor": 0,
  "metadata": {
    "colab": {
      "private_outputs": true,
      "provenance": [],
      "gpuType": "A100",
      "toc_visible": true,
      "authorship_tag": "ABX9TyMJyxhltOJpMcOepj4GAhPb",
      "include_colab_link": true
    },
    "kernelspec": {
      "name": "python3",
      "display_name": "Python 3"
    },
    "language_info": {
      "name": "python"
    },
    "accelerator": "GPU"
  },
  "cells": [
    {
      "cell_type": "markdown",
      "metadata": {
        "id": "view-in-github",
        "colab_type": "text"
      },
      "source": [
        "<a href=\"https://colab.research.google.com/github/eujin99/real-estate-support-dataset/blob/main/hoon_notion_dataset.ipynb\" target=\"_parent\"><img src=\"https://colab.research.google.com/assets/colab-badge.svg\" alt=\"Open In Colab\"/></a>"
      ]
    },
    {
      "cell_type": "code",
      "execution_count": null,
      "metadata": {
        "id": "eCAJVfzuhSNO"
      },
      "outputs": [],
      "source": [
        "!pip install datasets huggingface_hub"
      ]
    },
    {
      "cell_type": "code",
      "source": [
        "from google.colab import drive\n",
        "\n",
        "# Google Drive 마운트\n",
        "drive.mount('/content/drive')\n"
      ],
      "metadata": {
        "id": "tQUOUEi8hh7S"
      },
      "execution_count": null,
      "outputs": []
    },
    {
      "cell_type": "code",
      "source": [
        "# CSV 파일 경로 설정 (Google Drive의 파일 경로 기재)\n",
        "csv_file_path = '/content/drive/MyDrive/real_estate_dataset/hoon.csv'\n"
      ],
      "metadata": {
        "id": "EWt18qm7hh-p"
      },
      "execution_count": null,
      "outputs": []
    },
    {
      "cell_type": "code",
      "source": [
        "from huggingface_hub import notebook_login\n",
        "\n",
        "notebook_login()\n"
      ],
      "metadata": {
        "id": "--6rSFyLhiAR"
      },
      "execution_count": null,
      "outputs": []
    },
    {
      "cell_type": "code",
      "source": [
        "from datasets import load_dataset, Dataset\n",
        "\n",
        "# CSV 파일을 로드 -> 데이터셋 변환\n",
        "dataset = Dataset.from_csv(csv_file_path)\n"
      ],
      "metadata": {
        "id": "DO5WPZkuhiCG"
      },
      "execution_count": null,
      "outputs": []
    },
    {
      "cell_type": "code",
      "source": [
        "# 새로운 데이터셋 만들었슴..\n",
        "dataset.push_to_hub(\"chloestella/hoon_dataset\")\n"
      ],
      "metadata": {
        "id": "52Y-hU_ChiDk"
      },
      "execution_count": null,
      "outputs": []
    },
    {
      "cell_type": "code",
      "source": [
        "import pandas as pd\n",
        "import random\n",
        "import json\n",
        "\n",
        "# CSV 파일 경로 설정\n",
        "csv_file_path = '/content/drive/MyDrive/real_estate_dataset/hoon.csv'\n",
        "\n",
        "# CSV 파일 로드\n",
        "df = pd.read_csv(csv_file_path)\n",
        "\n",
        "# 잘뮨-답변 쌍 데이터셋 만들어주기 (임시) 나중에 더 추가\n",
        "def generate_qa_pairs(df):\n",
        "    qa_pairs = []\n",
        "\n",
        "    for _, row in df.iterrows():\n",
        "        # 매매가\n",
        "        if pd.notnull(row['매매가']):\n",
        "            price_patterns = [\n",
        "                f\"{row['매매가']}만원 이하의 매물을 추천해줘.\",\n",
        "                f\"{row['매매가']}만원 이하로 살 수 있는 집이 있나요?\",\n",
        "                f\"매매가 {row['매매가']}만원 이하인 집을 찾아줘.\"\n",
        "            ]\n",
        "            question_price = random.choice(price_patterns)\n",
        "            answer_price = f\"{row['주소']}에 위치한 {row['현장명']}은 매매가 {row['매매가']}만원, 평수 {row['평수']}제곱미터입니다.\"\n",
        "            qa_pairs.append({'question': question_price, 'answer': answer_price})\n",
        "\n",
        "        # 층수\n",
        "        if pd.notnull(row['층수']):\n",
        "            floor_patterns = [\n",
        "                f\"{row['층수']}층 이상의 매물을 찾아줘.\",\n",
        "                f\"{row['층수']}층보다 높은 매물이 있나요?\",\n",
        "                f\"최소 {row['층수']}층인 집을 찾고 있어.\"\n",
        "            ]\n",
        "            question_floor = random.choice(floor_patterns)\n",
        "            answer_floor = f\"{row['주소']}에 위치한 {row['현장명']}은 {row['층수']}층이며, 매매가는 {row['매매가']}만원입니다.\"\n",
        "            qa_pairs.append({'question': question_floor, 'answer': answer_floor})\n",
        "\n",
        "        # 실입\n",
        "        if pd.notnull(row['실입']):\n",
        "            deposit_patterns = [\n",
        "                f\"{row['실입']}만원 이하의 실입으로 가능한 매물을 추천해줘.\",\n",
        "                f\"실입이 {row['실입']}만원 이하인 집을 찾고 있어.\",\n",
        "                f\"실입금 {row['실입']}만원 이하의 매물은?\"\n",
        "            ]\n",
        "            question_deposit = random.choice(deposit_patterns)\n",
        "            answer_deposit = f\"{row['주소']}에 위치한 {row['현장명']}은 실입 {row['실입']}만원으로 가능합니다.\"\n",
        "            qa_pairs.append({'question': question_deposit, 'answer': answer_deposit})\n",
        "\n",
        "        # 거실창\n",
        "        if pd.notnull(row['거실창']) and '좋음' in str(row['거실창']):\n",
        "            livingroom_patterns = [\n",
        "                \"거실창이 큰 곳을 추천해줘.\",\n",
        "                \"거실창이 좋은 집을 찾아줘.\",\n",
        "                \"거실창이 좋은 매물을 찾고 있어.\"\n",
        "            ]\n",
        "            question_livingroom = random.choice(livingroom_patterns)\n",
        "            answer_livingroom = f\"{row['주소']}에 위치한 {row['현장명']}은 거실창이 좋음으로 평가되어 있습니다.\"\n",
        "            qa_pairs.append({'question': question_livingroom, 'answer': answer_livingroom})\n",
        "\n",
        "        # 역세권\n",
        "        if pd.notnull(row['구조,위치 특징']) and '역세권' in str(row['구조,위치 특징']):\n",
        "            station_patterns = [\n",
        "                \"역세권 매물을 추천해줘.\",\n",
        "                \"지하철역 가까운 집을 찾아줘.\",\n",
        "                \"역세권에 위치한 매물이 있나요?\"\n",
        "            ]\n",
        "            question_station = random.choice(station_patterns)\n",
        "            answer_station = f\"{row['주소']}에 위치한 {row['현장명']}은 역세권에 있으며, 매매가는 {row['매매가']}만원입니다.\"\n",
        "            qa_pairs.append({'question': question_station, 'answer': answer_station})\n",
        "\n",
        "        # 특이사항\n",
        "        if pd.notnull(row['특이사항']):\n",
        "            special_patterns = [\n",
        "                \"특이사항이 있는 매물을 추천해줘.\",\n",
        "                \"특별한 조건이 있는 집을 찾아줘.\",\n",
        "                \"특이사항이 있는 매물은?\"\n",
        "            ]\n",
        "            question_special = random.choice(special_patterns)\n",
        "            answer_special = f\"{row['주소']}에 위치한 {row['현장명']}은 다음과 같은 특이사항이 있습니다: {row['특이사항']}.\"\n",
        "            qa_pairs.append({'question': question_special, 'answer': answer_special})\n",
        "\n",
        "    return qa_pairs\n",
        "\n",
        "# 질문-답변 쌍 생성\n",
        "qa_pairs = generate_qa_pairs(df)\n",
        "\n",
        "# 질문-답변 데이터 -> CSV 저장\n",
        "qa_df = pd.DataFrame(qa_pairs)\n",
        "qa_df.to_csv('/content/drive/MyDrive/real_estate_dataset/qa_data.csv', index=False, encoding='utf-8-sig')\n",
        "print(\"질문-답변 데이터가 CSV 파일로 저장됨.\")\n",
        "\n",
        "# 혹시나 일단 JSON으로도 저장해두기\n",
        "with open('/content/drive/MyDrive/real_estate_dataset/qa_data.json', 'w', encoding='utf-8') as f:\n",
        "    json.dump(qa_pairs, f, ensure_ascii=False, indent=4)\n",
        "print(\"질문-답변 데이터가 JSON 파일로 저장됨.\")\n"
      ],
      "metadata": {
        "id": "MsoDKmiOhiFU"
      },
      "execution_count": null,
      "outputs": []
    },
    {
      "cell_type": "code",
      "source": [
        "import pandas as pd\n",
        "\n",
        "# CSV 파일 경로\n",
        "qa_data_path = '/content/drive/MyDrive/real_estate_dataset/qa_data.csv'\n",
        "\n",
        "# CSV 파일 로드\n",
        "qa_data = pd.read_csv(qa_data_path)\n",
        "\n",
        "# 출력 테스트 해보깅,,\n",
        "pd.set_option('display.max_rows', None)\n",
        "print(qa_data)\n"
      ],
      "metadata": {
        "id": "o0Ugsb3AhiIw"
      },
      "execution_count": null,
      "outputs": []
    },
    {
      "cell_type": "code",
      "source": [
        "from datasets import Dataset\n",
        "\n",
        "# CSV 파일 경로 설정\n",
        "csv_file_path = '/content/drive/MyDrive/real_estate_dataset/qa_data.csv'\n",
        "\n",
        "# CSV 파일 로드\n",
        "dataset = Dataset.from_csv(csv_file_path)\n",
        "\n",
        "# Hugging Face Hub에 업로드\n",
        "dataset.push_to_hub(\"chloestella/qa_data\")\n"
      ],
      "metadata": {
        "id": "p7sOo4K3hiKa"
      },
      "execution_count": null,
      "outputs": []
    },
    {
      "cell_type": "code",
      "source": [
        "from datasets import Dataset\n",
        "\n",
        "# CSV 파일 경로 설정\n",
        "csv_file_path = '/content/drive/MyDrive/real_estate_dataset/qa_data.csv'\n",
        "\n",
        "# CSV 파일 로드하여 Dataset 객체 생성\n",
        "dataset = Dataset.from_csv(csv_file_path)\n",
        "\n",
        "# Hugging Face Hub에 업로드\n",
        "dataset.push_to_hub(\"chloestella/hoon_qa\")\n"
      ],
      "metadata": {
        "id": "musU1MIhhiMW"
      },
      "execution_count": null,
      "outputs": []
    }
  ]
}